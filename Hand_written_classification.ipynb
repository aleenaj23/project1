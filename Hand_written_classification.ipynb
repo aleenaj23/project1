{
  "nbformat": 4,
  "nbformat_minor": 0,
  "metadata": {
    "colab": {
      "provenance": [],
      "authorship_tag": "ABX9TyM9dzYDKGWEe4Dt0d3siouU",
      "include_colab_link": true
    },
    "kernelspec": {
      "name": "python3",
      "display_name": "Python 3"
    },
    "language_info": {
      "name": "python"
    }
  },
  "cells": [
    {
      "cell_type": "markdown",
      "metadata": {
        "id": "view-in-github",
        "colab_type": "text"
      },
      "source": [
        "<a href=\"https://colab.research.google.com/github/aleenaj23/project1/blob/main/Hand_written_classification.ipynb\" target=\"_parent\"><img src=\"https://colab.research.google.com/assets/colab-badge.svg\" alt=\"Open In Colab\"/></a>"
      ]
    },
    {
      "cell_type": "markdown",
      "source": [
        "Hand Written Digit Prediction"
      ],
      "metadata": {
        "id": "s7PixNqqsBwY"
      }
    },
    {
      "cell_type": "markdown",
      "source": [
        "The digits dataset consists of 8x8 pixel imagesf digits.The image attribute of dataset stores 8x8 arrays of grayscale values for each image.We will use this image to visualize the first 4 images.The target attribute of the dataset stores the digit each image represents."
      ],
      "metadata": {
        "id": "qbCadTmhr6C5"
      }
    },
    {
      "cell_type": "markdown",
      "source": [
        "Import library"
      ],
      "metadata": {
        "id": "Q0kXZ1iCsK86"
      }
    },
    {
      "cell_type": "code",
      "source": [
        "import pandas as pd"
      ],
      "metadata": {
        "id": "AnASAhr8sU_u"
      },
      "execution_count": 1,
      "outputs": []
    },
    {
      "cell_type": "code",
      "source": [
        "import numpy as np"
      ],
      "metadata": {
        "id": "y67_IzwEsY-F"
      },
      "execution_count": 2,
      "outputs": []
    },
    {
      "cell_type": "code",
      "source": [
        "import matplotlib.pyplot as plt\n"
      ],
      "metadata": {
        "id": "gSwLOJZBsZBD"
      },
      "execution_count": 3,
      "outputs": []
    },
    {
      "cell_type": "markdown",
      "source": [
        "Import data"
      ],
      "metadata": {
        "id": "gMuOii8KsoAN"
      }
    },
    {
      "cell_type": "code",
      "source": [
        "\n",
        "from sklearn.datasets import load_digits"
      ],
      "metadata": {
        "id": "7bhY3unuspki"
      },
      "execution_count": 4,
      "outputs": []
    },
    {
      "cell_type": "code",
      "source": [
        "df=load_digits()"
      ],
      "metadata": {
        "id": "ugzZGk1nvBiI"
      },
      "execution_count": 5,
      "outputs": []
    },
    {
      "cell_type": "code",
      "source": [
        "_, axes = plt.subplots(nrows=1, ncols=4, figsize=(10,3))\n",
        "for ax, image, label in zip(axes, df.images, df.target):\n",
        "  ax.set_axis_off()\n",
        "  ax.imshow(image, cmap=plt.cm.gray_r, interpolation=\"nearest\")\n",
        "  ax.set_title(\"Training: %i\" % label)\n"
      ],
      "metadata": {
        "colab": {
          "base_uri": "https://localhost:8080/",
          "height": 227
        },
        "id": "-WYm4DUhySAf",
        "outputId": "903ae690-0185-48b8-f455-2a4c7a7828aa"
      },
      "execution_count": 6,
      "outputs": [
        {
          "output_type": "display_data",
          "data": {
            "text/plain": [
              "<Figure size 1000x300 with 4 Axes>"
            ],
            "image/png": "[encoded data removed]"
          },
          "metadata": {}
        }
      ]
    },
    {
      "cell_type": "markdown",
      "source": [
        "Data preprocessing\n"
      ],
      "metadata": {
        "id": "2cdf4MsJyg1s"
      }
    },
    {
      "cell_type": "markdown",
      "source": [
        "Flatten image"
      ],
      "metadata": {
        "id": "Q7YMVtd2yz1k"
      }
    },
    {
      "cell_type": "markdown",
      "source": [
        "![Untitled.png](data:image/png;base64,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)"
      ],
      "metadata": {
        "id": "i9dg8g9Jy5w7"
      }
    },
    {
      "cell_type": "code",
      "source": [
        "\n",
        "df.images.shape"
      ],
      "metadata": {
        "colab": {
          "base_uri": "https://localhost:8080/"
        },
        "id": "fLrol3fOzxRn",
        "outputId": "213fd74a-1271-4ae3-9032-de9ae99ef689"
      },
      "execution_count": 7,
      "outputs": [
        {
          "output_type": "execute_result",
          "data": {
            "text/plain": [
              "(1797, 8, 8)"
            ]
          },
          "metadata": {},
          "execution_count": 7
        }
      ]
    },
    {
      "cell_type": "code",
      "source": [
        "\n",
        "df.images[0]"
      ],
      "metadata": {
        "colab": {
          "base_uri": "https://localhost:8080/"
        },
        "id": "5jaKuhrBzzTk",
        "outputId": "8abfe633-a5ce-48be-d6ac-8d2d9a61453d"
      },
      "execution_count": 8,
      "outputs": [
        {
          "output_type": "execute_result",
          "data": {
            "text/plain": [
              "array([[ 0.,  0.,  5., 13.,  9.,  1.,  0.,  0.],\n",
              "       [ 0.,  0., 13., 15., 10., 15.,  5.,  0.],\n",
              "       [ 0.,  3., 15.,  2.,  0., 11.,  8.,  0.],\n",
              "       [ 0.,  4., 12.,  0.,  0.,  8.,  8.,  0.],\n",
              "       [ 0.,  5.,  8.,  0.,  0.,  9.,  8.,  0.],\n",
              "       [ 0.,  4., 11.,  0.,  1., 12.,  7.,  0.],\n",
              "       [ 0.,  2., 14.,  5., 10., 12.,  0.,  0.],\n",
              "       [ 0.,  0.,  6., 13., 10.,  0.,  0.,  0.]])"
            ]
          },
          "metadata": {},
          "execution_count": 8
        }
      ]
    },
    {
      "cell_type": "code",
      "source": [
        "df.images[0].shape"
      ],
      "metadata": {
        "colab": {
          "base_uri": "https://localhost:8080/"
        },
        "id": "3yoRAkOm0JpD",
        "outputId": "c2100d70-9c9e-421b-f255-62944589e479"
      },
      "execution_count": 9,
      "outputs": [
        {
          "output_type": "execute_result",
          "data": {
            "text/plain": [
              "(8, 8)"
            ]
          },
          "metadata": {},
          "execution_count": 9
        }
      ]
    },
    {
      "cell_type": "code",
      "source": [
        "df.images[0].shape"
      ],
      "metadata": {
        "colab": {
          "base_uri": "https://localhost:8080/"
        },
        "id": "DPMNG-p60JsN",
        "outputId": "f8a4dd8d-0d2b-4187-98e7-e6cda562edc6"
      },
      "execution_count": 10,
      "outputs": [
        {
          "output_type": "execute_result",
          "data": {
            "text/plain": [
              "(8, 8)"
            ]
          },
          "metadata": {},
          "execution_count": 10
        }
      ]
    },
    {
      "cell_type": "code",
      "source": [
        "n_samples = len(df.images)\n",
        "data = df.images.reshape(n_samples, -1)"
      ],
      "metadata": {
        "id": "1U4h-tHYzzWo"
      },
      "execution_count": 11,
      "outputs": []
    },
    {
      "cell_type": "code",
      "source": [
        "data[0]"
      ],
      "metadata": {
        "colab": {
          "base_uri": "https://localhost:8080/"
        },
        "id": "f4iF9F1C0dW4",
        "outputId": "8a8e44e3-d96d-4672-f1ce-ad943f573ae4"
      },
      "execution_count": 12,
      "outputs": [
        {
          "output_type": "execute_result",
          "data": {
            "text/plain": [
              "array([ 0.,  0.,  5., 13.,  9.,  1.,  0.,  0.,  0.,  0., 13., 15., 10.,\n",
              "       15.,  5.,  0.,  0.,  3., 15.,  2.,  0., 11.,  8.,  0.,  0.,  4.,\n",
              "       12.,  0.,  0.,  8.,  8.,  0.,  0.,  5.,  8.,  0.,  0.,  9.,  8.,\n",
              "        0.,  0.,  4., 11.,  0.,  1., 12.,  7.,  0.,  0.,  2., 14.,  5.,\n",
              "       10., 12.,  0.,  0.,  0.,  0.,  6., 13., 10.,  0.,  0.,  0.])"
            ]
          },
          "metadata": {},
          "execution_count": 12
        }
      ]
    },
    {
      "cell_type": "code",
      "source": [
        "data[0].shape"
      ],
      "metadata": {
        "colab": {
          "base_uri": "https://localhost:8080/"
        },
        "id": "T9YDtxeI0dZe",
        "outputId": "d13480eb-8f3b-45bc-df8e-cd167841bae0"
      },
      "execution_count": 13,
      "outputs": [
        {
          "output_type": "execute_result",
          "data": {
            "text/plain": [
              "(64,)"
            ]
          },
          "metadata": {},
          "execution_count": 13
        }
      ]
    },
    {
      "cell_type": "code",
      "source": [
        "data.shape"
      ],
      "metadata": {
        "colab": {
          "base_uri": "https://localhost:8080/"
        },
        "id": "00HcU7_-0dcO",
        "outputId": "632f7a76-75f3-44a6-f8be-d7f10a0da4ce"
      },
      "execution_count": 14,
      "outputs": [
        {
          "output_type": "execute_result",
          "data": {
            "text/plain": [
              "(1797, 64)"
            ]
          },
          "metadata": {},
          "execution_count": 14
        }
      ]
    },
    {
      "cell_type": "markdown",
      "source": [
        "Scalling image data"
      ],
      "metadata": {
        "id": "wM_tr_gp0swO"
      }
    },
    {
      "cell_type": "code",
      "source": [
        "data.min()"
      ],
      "metadata": {
        "colab": {
          "base_uri": "https://localhost:8080/"
        },
        "id": "unZcWuGj0yAY",
        "outputId": "3a7335a0-b137-4b56-ee5f-49219ba7158e"
      },
      "execution_count": 15,
      "outputs": [
        {
          "output_type": "execute_result",
          "data": {
            "text/plain": [
              "0.0"
            ]
          },
          "metadata": {},
          "execution_count": 15
        }
      ]
    },
    {
      "cell_type": "code",
      "source": [
        "data.max()"
      ],
      "metadata": {
        "colab": {
          "base_uri": "https://localhost:8080/"
        },
        "id": "UBUvW97a0zVQ",
        "outputId": "e180796c-ed96-47f2-e712-4022285a59aa"
      },
      "execution_count": 16,
      "outputs": [
        {
          "output_type": "execute_result",
          "data": {
            "text/plain": [
              "16.0"
            ]
          },
          "metadata": {},
          "execution_count": 16
        }
      ]
    },
    {
      "cell_type": "code",
      "source": [
        "data[0]"
      ],
      "metadata": {
        "colab": {
          "base_uri": "https://localhost:8080/"
        },
        "id": "-5ZUy-je0zYo",
        "outputId": "bbb32c64-51fb-40ae-fe99-85d8531ea8f1"
      },
      "execution_count": 17,
      "outputs": [
        {
          "output_type": "execute_result",
          "data": {
            "text/plain": [
              "array([ 0.,  0.,  5., 13.,  9.,  1.,  0.,  0.,  0.,  0., 13., 15., 10.,\n",
              "       15.,  5.,  0.,  0.,  3., 15.,  2.,  0., 11.,  8.,  0.,  0.,  4.,\n",
              "       12.,  0.,  0.,  8.,  8.,  0.,  0.,  5.,  8.,  0.,  0.,  9.,  8.,\n",
              "        0.,  0.,  4., 11.,  0.,  1., 12.,  7.,  0.,  0.,  2., 14.,  5.,\n",
              "       10., 12.,  0.,  0.,  0.,  0.,  6., 13., 10.,  0.,  0.,  0.])"
            ]
          },
          "metadata": {},
          "execution_count": 17
        }
      ]
    },
    {
      "cell_type": "markdown",
      "source": [
        "Train Test Spllt"
      ],
      "metadata": {
        "id": "FXYxqb7O1OdQ"
      }
    },
    {
      "cell_type": "code",
      "source": [
        "from sklearn.model_selection import train_test_split"
      ],
      "metadata": {
        "id": "8eNHff3e1ROT"
      },
      "execution_count": 18,
      "outputs": []
    },
    {
      "cell_type": "code",
      "source": [
        "X_train, X_test, y_train, y_test, = train_test_split(data, df.target, test_size=0.3)"
      ],
      "metadata": {
        "id": "DIr0wyUq1abU"
      },
      "execution_count": 19,
      "outputs": []
    },
    {
      "cell_type": "code",
      "source": [
        "X_train.shape, X_test.shape, y_train.shape, y_test.shape"
      ],
      "metadata": {
        "colab": {
          "base_uri": "https://localhost:8080/"
        },
        "id": "XghK61M61e4c",
        "outputId": "fd986fa2-c79c-442a-8bfd-a1e15deb9ee6"
      },
      "execution_count": 20,
      "outputs": [
        {
          "output_type": "execute_result",
          "data": {
            "text/plain": [
              "((1257, 64), (540, 64), (1257,), (540,))"
            ]
          },
          "metadata": {},
          "execution_count": 20
        }
      ]
    },
    {
      "cell_type": "markdown",
      "source": [
        "Random forest model"
      ],
      "metadata": {
        "id": "YZnGPzwK1jqb"
      }
    },
    {
      "cell_type": "code",
      "source": [
        "from sklearn.ensemble import RandomForestClassifier"
      ],
      "metadata": {
        "id": "YzelGqB01pr2"
      },
      "execution_count": 21,
      "outputs": []
    },
    {
      "cell_type": "code",
      "source": [
        "rf = RandomForestClassifier()"
      ],
      "metadata": {
        "id": "A8tnZ7rw1snP"
      },
      "execution_count": 29,
      "outputs": []
    },
    {
      "cell_type": "code",
      "source": [
        "rf.fit(X_train, y_train)"
      ],
      "metadata": {
        "colab": {
          "base_uri": "https://localhost:8080/",
          "height": 75
        },
        "id": "j4VsBKa43J4a",
        "outputId": "b6b2c137-5b41-433b-bb82-994085d242ca"
      },
      "execution_count": 32,
      "outputs": [
        {
          "output_type": "execute_result",
          "data": {
            "text/plain": [
              "RandomForestClassifier()"
            ],
            "text/html": [
              "<style>#sk-container-id-1 {color: black;background-color: white;}#sk-container-id-1 pre{padding: 0;}#sk-container-id-1 div.sk-toggleable {background-color: white;}#sk-container-id-1 label.sk-toggleable__label {cursor: pointer;display: block;width: 100%;margin-bottom: 0;padding: 0.3em;box-sizing: border-box;text-align: center;}#sk-container-id-1 label.sk-toggleable__label-arrow:before {content: \"▸\";float: left;margin-right: 0.25em;color: #696969;}#sk-container-id-1 label.sk-toggleable__label-arrow:hover:before {color: black;}#sk-container-id-1 div.sk-estimator:hover label.sk-toggleable__label-arrow:before {color: black;}#sk-container-id-1 div.sk-toggleable__content {max-height: 0;max-width: 0;overflow: hidden;text-align: left;background-color: #f0f8ff;}#sk-container-id-1 div.sk-toggleable__content pre {margin: 0.2em;color: black;border-radius: 0.25em;background-color: #f0f8ff;}#sk-container-id-1 input.sk-toggleable__control:checked~div.sk-toggleable__content {max-height: 200px;max-width: 100%;overflow: auto;}#sk-container-id-1 input.sk-toggleable__control:checked~label.sk-toggleable__label-arrow:before {content: \"▾\";}#sk-container-id-1 div.sk-estimator input.sk-toggleable__control:checked~label.sk-toggleable__label {background-color: #d4ebff;}#sk-container-id-1 div.sk-label input.sk-toggleable__control:checked~label.sk-toggleable__label {background-color: #d4ebff;}#sk-container-id-1 input.sk-hidden--visually {border: 0;clip: rect(1px 1px 1px 1px);clip: rect(1px, 1px, 1px, 1px);height: 1px;margin: -1px;overflow: hidden;padding: 0;position: absolute;width: 1px;}#sk-container-id-1 div.sk-estimator {font-family: monospace;background-color: #f0f8ff;border: 1px dotted black;border-radius: 0.25em;box-sizing: border-box;margin-bottom: 0.5em;}#sk-container-id-1 div.sk-estimator:hover {background-color: #d4ebff;}#sk-container-id-1 div.sk-parallel-item::after {content: \"\";width: 100%;border-bottom: 1px solid gray;flex-grow: 1;}#sk-container-id-1 div.sk-label:hover label.sk-toggleable__label {background-color: #d4ebff;}#sk-container-id-1 div.sk-serial::before {content: \"\";position: absolute;border-left: 1px solid gray;box-sizing: border-box;top: 0;bottom: 0;left: 50%;z-index: 0;}#sk-container-id-1 div.sk-serial {display: flex;flex-direction: column;align-items: center;background-color: white;padding-right: 0.2em;padding-left: 0.2em;position: relative;}#sk-container-id-1 div.sk-item {position: relative;z-index: 1;}#sk-container-id-1 div.sk-parallel {display: flex;align-items: stretch;justify-content: center;background-color: white;position: relative;}#sk-container-id-1 div.sk-item::before, #sk-container-id-1 div.sk-parallel-item::before {content: \"\";position: absolute;border-left: 1px solid gray;box-sizing: border-box;top: 0;bottom: 0;left: 50%;z-index: -1;}#sk-container-id-1 div.sk-parallel-item {display: flex;flex-direction: column;z-index: 1;position: relative;background-color: white;}#sk-container-id-1 div.sk-parallel-item:first-child::after {align-self: flex-end;width: 50%;}#sk-container-id-1 div.sk-parallel-item:last-child::after {align-self: flex-start;width: 50%;}#sk-container-id-1 div.sk-parallel-item:only-child::after {width: 0;}#sk-container-id-1 div.sk-dashed-wrapped {border: 1px dashed gray;margin: 0 0.4em 0.5em 0.4em;box-sizing: border-box;padding-bottom: 0.4em;background-color: white;}#sk-container-id-1 div.sk-label label {font-family: monospace;font-weight: bold;display: inline-block;line-height: 1.2em;}#sk-container-id-1 div.sk-label-container {text-align: center;}#sk-container-id-1 div.sk-container {/* jupyter's `normalize.less` sets `[hidden] { display: none; }` but bootstrap.min.css set `[hidden] { display: none !important; }` so we also need the `!important` here to be able to override the default hidden behavior on the sphinx rendered scikit-learn.org. See: https://github.com/scikit-learn/scikit-learn/issues/21755 */display: inline-block !important;position: relative;}#sk-container-id-1 div.sk-text-repr-fallback {display: none;}</style><div id=\"sk-container-id-1\" class=\"sk-top-container\"><div class=\"sk-text-repr-fallback\"><pre>RandomForestClassifier()</pre><b>In a Jupyter environment, please rerun this cell to show the HTML representation or trust the notebook. <br />On GitHub, the HTML representation is unable to render, please try loading this page with nbviewer.org.</b></div><div class=\"sk-container\" hidden><div class=\"sk-item\"><div class=\"sk-estimator sk-toggleable\"><input class=\"sk-toggleable__control sk-hidden--visually\" id=\"sk-estimator-id-1\" type=\"checkbox\" checked><label for=\"sk-estimator-id-1\" class=\"sk-toggleable__label sk-toggleable__label-arrow\">RandomForestClassifier</label><div class=\"sk-toggleable__content\"><pre>RandomForestClassifier()</pre></div></div></div></div></div>"
            ]
          },
          "metadata": {},
          "execution_count": 32
        }
      ]
    },
    {
      "cell_type": "markdown",
      "source": [
        "\n",
        "Predict Test Data"
      ],
      "metadata": {
        "id": "Uvl14fSw13xe"
      }
    },
    {
      "cell_type": "code",
      "source": [
        "y_pred = rf.predict(X_test)"
      ],
      "metadata": {
        "id": "Hu61KZ-W3NSl"
      },
      "execution_count": 34,
      "outputs": []
    },
    {
      "cell_type": "code",
      "source": [
        "y_pred"
      ],
      "metadata": {
        "colab": {
          "base_uri": "https://localhost:8080/"
        },
        "id": "-x03FZV93NPY",
        "outputId": "82e26e15-3c27-460b-8993-01c79e6f9e9a"
      },
      "execution_count": 35,
      "outputs": [
        {
          "output_type": "execute_result",
          "data": {
            "text/plain": [
              "array([9, 9, 0, 4, 2, 8, 4, 0, 6, 8, 1, 0, 4, 8, 7, 0, 2, 8, 5, 8, 6, 4,\n",
              "       9, 0, 1, 1, 9, 9, 5, 2, 8, 0, 3, 4, 9, 0, 9, 1, 9, 4, 2, 3, 6, 4,\n",
              "       4, 2, 5, 6, 3, 3, 7, 2, 0, 9, 7, 5, 9, 7, 0, 6, 6, 3, 8, 7, 0, 5,\n",
              "       4, 9, 3, 3, 1, 0, 6, 5, 1, 2, 0, 0, 7, 4, 1, 9, 0, 2, 4, 4, 3, 0,\n",
              "       7, 8, 4, 7, 1, 4, 6, 7, 8, 7, 6, 7, 0, 5, 7, 8, 8, 2, 0, 3, 5, 0,\n",
              "       7, 5, 6, 6, 9, 6, 4, 6, 9, 8, 6, 0, 2, 6, 5, 9, 1, 2, 5, 9, 1, 5,\n",
              "       0, 5, 3, 5, 7, 6, 3, 2, 7, 6, 2, 0, 1, 4, 9, 6, 4, 6, 1, 5, 3, 2,\n",
              "       9, 3, 8, 7, 3, 9, 0, 0, 0, 5, 4, 5, 1, 1, 1, 9, 7, 2, 8, 5, 3, 4,\n",
              "       5, 3, 1, 2, 5, 0, 9, 1, 6, 0, 2, 0, 9, 1, 1, 1, 2, 2, 4, 8, 6, 9,\n",
              "       4, 0, 7, 7, 7, 8, 8, 7, 7, 0, 1, 5, 1, 4, 7, 0, 1, 6, 1, 4, 3, 7,\n",
              "       1, 4, 2, 3, 2, 1, 9, 1, 8, 6, 0, 6, 0, 1, 9, 4, 2, 9, 0, 1, 1, 4,\n",
              "       1, 8, 3, 8, 2, 2, 6, 7, 0, 7, 2, 6, 1, 4, 0, 1, 4, 7, 9, 3, 5, 5,\n",
              "       4, 5, 8, 1, 7, 1, 9, 9, 9, 1, 3, 9, 5, 7, 6, 5, 9, 2, 1, 7, 3, 6,\n",
              "       3, 5, 3, 0, 2, 3, 8, 5, 5, 9, 1, 9, 8, 7, 7, 9, 5, 5, 5, 7, 1, 8,\n",
              "       0, 2, 4, 3, 3, 6, 9, 9, 4, 5, 2, 1, 6, 0, 6, 7, 8, 0, 3, 2, 4, 5,\n",
              "       2, 9, 5, 5, 5, 3, 7, 5, 7, 6, 0, 5, 5, 4, 5, 4, 5, 4, 3, 0, 2, 3,\n",
              "       1, 9, 3, 7, 7, 4, 2, 5, 4, 8, 9, 6, 3, 7, 4, 5, 4, 1, 8, 7, 4, 7,\n",
              "       5, 7, 7, 6, 1, 3, 5, 7, 8, 3, 0, 0, 9, 7, 8, 8, 2, 7, 8, 6, 1, 4,\n",
              "       9, 4, 2, 1, 6, 1, 0, 9, 2, 6, 3, 7, 4, 4, 1, 2, 0, 6, 5, 3, 7, 0,\n",
              "       1, 4, 3, 0, 8, 7, 3, 7, 0, 0, 5, 5, 0, 2, 2, 4, 5, 3, 6, 0, 3, 5,\n",
              "       9, 8, 4, 0, 0, 8, 7, 4, 8, 4, 8, 5, 4, 7, 9, 8, 6, 6, 1, 8, 7, 6,\n",
              "       6, 9, 1, 2, 9, 6, 1, 0, 2, 5, 4, 0, 6, 4, 7, 2, 7, 0, 0, 8, 1, 8,\n",
              "       4, 3, 3, 0, 1, 1, 1, 4, 4, 8, 8, 6, 4, 0, 6, 6, 8, 9, 3, 0, 1, 1,\n",
              "       2, 8, 3, 6, 1, 7, 5, 2, 1, 9, 0, 3, 6, 2, 3, 3, 0, 7, 3, 7, 5, 7,\n",
              "       4, 4, 6, 2, 5, 0, 9, 7, 3, 6, 2, 2])"
            ]
          },
          "metadata": {},
          "execution_count": 35
        }
      ]
    },
    {
      "cell_type": "markdown",
      "source": [
        "\n",
        "Model Accuracy"
      ],
      "metadata": {
        "id": "9gVWffpL3ZC1"
      }
    },
    {
      "cell_type": "code",
      "source": [
        "from sklearn.metrics import confusion_matrix, classification_report"
      ],
      "metadata": {
        "id": "p-PfTnZH3aaJ"
      },
      "execution_count": 36,
      "outputs": []
    },
    {
      "cell_type": "code",
      "source": [
        "confusion_matrix(y_test, y_pred)"
      ],
      "metadata": {
        "colab": {
          "base_uri": "https://localhost:8080/"
        },
        "id": "JKha-jTP3aXF",
        "outputId": "fc4ec0e2-e2e9-480c-a544-ab08ffa2ee3c"
      },
      "execution_count": 37,
      "outputs": [
        {
          "output_type": "execute_result",
          "data": {
            "text/plain": [
              "array([[63,  0,  0,  0,  1,  0,  0,  0,  0,  0],\n",
              "       [ 0, 57,  0,  0,  0,  1,  0,  0,  0,  0],\n",
              "       [ 0,  0, 48,  0,  0,  0,  0,  0,  0,  0],\n",
              "       [ 0,  0,  0, 47,  0,  1,  0,  1,  0,  1],\n",
              "       [ 0,  0,  0,  0, 56,  0,  0,  1,  0,  0],\n",
              "       [ 0,  0,  0,  1,  1, 53,  0,  0,  1,  1],\n",
              "       [ 0,  0,  0,  0,  0,  0, 52,  0,  0,  0],\n",
              "       [ 0,  0,  0,  0,  0,  0,  0, 57,  0,  0],\n",
              "       [ 0,  2,  0,  1,  0,  0,  0,  0, 42,  0],\n",
              "       [ 0,  0,  0,  1,  0,  1,  0,  1,  1, 48]])"
            ]
          },
          "metadata": {},
          "execution_count": 37
        }
      ]
    },
    {
      "cell_type": "code",
      "source": [
        "print(classification_report(y_test, y_pred))"
      ],
      "metadata": {
        "colab": {
          "base_uri": "https://localhost:8080/"
        },
        "id": "228gwgrX3kh2",
        "outputId": "34aa2ce2-647a-417b-b6bc-ee221dc82db8"
      },
      "execution_count": 38,
      "outputs": [
        {
          "output_type": "stream",
          "name": "stdout",
          "text": [
            "              precision    recall  f1-score   support\n",
            "\n",
            "           0       1.00      0.98      0.99        64\n",
            "           1       0.97      0.98      0.97        58\n",
            "           2       1.00      1.00      1.00        48\n",
            "           3       0.94      0.94      0.94        50\n",
            "           4       0.97      0.98      0.97        57\n",
            "           5       0.95      0.93      0.94        57\n",
            "           6       1.00      1.00      1.00        52\n",
            "           7       0.95      1.00      0.97        57\n",
            "           8       0.95      0.93      0.94        45\n",
            "           9       0.96      0.92      0.94        52\n",
            "\n",
            "    accuracy                           0.97       540\n",
            "   macro avg       0.97      0.97      0.97       540\n",
            "weighted avg       0.97      0.97      0.97       540\n",
            "\n"
          ]
        }
      ]
    }
  ]
}